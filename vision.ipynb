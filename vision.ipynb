{
 "cells": [
  {
   "cell_type": "code",
   "execution_count": 51,
   "metadata": {},
   "outputs": [],
   "source": [
    "import os\n",
    "import pytesseract as tess\n",
    "import tkinter as tk\n",
    "from tkinter import filedialog, StringVar, IntVar\n",
    "import pandas as pd\n",
    "from PIL import Image, ImageTk, ImageOps\n",
    "import cv2\n",
    "from pytesseract import Output\n",
    "import csv\n",
    "\n",
    "\n",
    "tess.pytesseract.tesseract_cmd = 'C:/Program Files (x86)/Tessaract/tesseract.exe'\n",
    "tessdata_dir_config = '--tessdata-dir \"C:/Program Files (x86)/Tessaract/tessdata\"'\n",
    "root = tk.Tk()\n",
    "\n",
    "# reading image using opencv\n",
    "image = cv2.imread('IMG 3.PNG')\n",
    "\n",
    "#converting image into gray scale image\n",
    "gray_image = cv2.cvtColor(image, cv2.COLOR_BGR2GRAY)\n",
    "\n",
    "# converting it to binary image by Thresholding\n",
    "# this step is require if you have colored image because if you skip this part\n",
    "# then tesseract won't able to detect text correctly and this will give incorrect result\n",
    "threshold_img = cv2.threshold(gray_image, 15, 255, cv2.THRESH_BINARY | cv2.THRESH_OTSU)[1]\n",
    "\n",
    "# display image\n",
    "cv2.imshow('gray image', gray_image)\n",
    "\n",
    "# Maintain output window until user presses a key\n",
    "cv2.waitKey(0)\n",
    "\n",
    "# Destroying present windows on screen\n",
    "cv2.destroyAllWindows()\n"
   ]
  },
  {
   "cell_type": "code",
   "execution_count": 52,
   "metadata": {},
   "outputs": [
    {
     "name": "stdout",
     "output_type": "stream",
     "text": [
      "dict_keys(['level', 'page_num', 'block_num', 'par_num', 'line_num', 'word_num', 'left', 'top', 'width', 'height', 'conf', 'text'])\n"
     ]
    }
   ],
   "source": [
    "#configuring parameters for tesseract\n",
    "# now feeding image to tesseract\n",
    "details = tess.image_to_data(gray_image, output_type=Output.DICT, config=tessdata_dir_config)\n",
    "print(details.keys())"
   ]
  },
  {
   "cell_type": "code",
   "execution_count": 53,
   "metadata": {},
   "outputs": [],
   "source": [
    "n_boxes = len(details['text'])\n",
    "for i in range(n_boxes):\n",
    "    if int(details['conf'][i]) > 30:\n",
    "        (x, y, w, h) = (details['left'][i], details['top'][i], details['width'][i], details['height'][i])\n",
    "        threshold_img = cv2.rectangle(gray_image, (x, y), (x + w, y + h), (0, 255, 0), 2)\n",
    "\n",
    "cv2.imshow('captured text', threshold_img)\n",
    "cv2.waitKey(0)\n",
    "\n",
    "# Destroying present windows on screen\n",
    "cv2.destroyAllWindows()"
   ]
  },
  {
   "cell_type": "code",
   "execution_count": 54,
   "metadata": {},
   "outputs": [],
   "source": [
    "parse_text = []\n",
    "word_list = []\n",
    "last_word = []\n",
    "\n",
    "for word in details['text']:\n",
    "    if word!='':\n",
    "        word_list.append(word)\n",
    "        last_word = word\n",
    "    if (last_word!='' and word == '') or (word==details['text'][-1]):\n",
    "        parse_text.append(word_list)\n",
    "        word_list = []\n",
    "        "
   ]
  },
  {
   "cell_type": "code",
   "execution_count": 56,
   "metadata": {},
   "outputs": [],
   "source": [
    "with open ('result.txt', 'w', newline='') as file:\n",
    "    csv.writer(file, delimiter = \" \").writerows(parse_text)"
   ]
  }
 ],
 "metadata": {
  "interpreter": {
   "hash": "7e4a145a50e120770814ae6c9986681bab1e6abeb6e6576d2aba2c6a03df04d2"
  },
  "kernelspec": {
   "display_name": "Python 3.8.3 64-bit ('base': conda)",
   "language": "python",
   "name": "python3"
  },
  "language_info": {
   "codemirror_mode": {
    "name": "ipython",
    "version": 3
   },
   "file_extension": ".py",
   "mimetype": "text/x-python",
   "name": "python",
   "nbconvert_exporter": "python",
   "pygments_lexer": "ipython3",
   "version": "3.8.8"
  },
  "orig_nbformat": 2
 },
 "nbformat": 4,
 "nbformat_minor": 2
}
